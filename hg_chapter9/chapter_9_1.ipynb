{
  "nbformat": 4,
  "nbformat_minor": 0,
  "metadata": {
    "colab": {
      "name": "chapter_9_1.ipynb",
      "provenance": [],
      "collapsed_sections": [],
      "authorship_tag": "ABX9TyPpYh0wgHVpVAJn4/U86515",
      "include_colab_link": true
    },
    "kernelspec": {
      "name": "python3",
      "display_name": "Python 3"
    },
    "language_info": {
      "name": "python"
    }
  },
  "cells": [
    {
      "cell_type": "markdown",
      "metadata": {
        "id": "view-in-github",
        "colab_type": "text"
      },
      "source": [
        "<a href=\"https://colab.research.google.com/github/kmk3593/google_drive/blob/main/hg_chapter9/chapter_9_1.ipynb\" target=\"_parent\"><img src=\"https://colab.research.google.com/assets/colab-badge.svg\" alt=\"Open In Colab\"/></a>"
      ]
    },
    {
      "cell_type": "markdown",
      "source": [
        "# 순차 데이터와 순환 신경망\n",
        "# 통계\n",
        "- 초급 레벨 : 기초통계 (t.test, 분산분석, 회귀분석 등)\n",
        "- 중급 레벨 : 시계열 분석 / 베이지안 / 비모수검정\n",
        "- 시계열 데이터 : 주식/ 날씨 / 매장 매출\n",
        "  - R로 공부할 것"
      ],
      "metadata": {
        "id": "HTvDUTg9xTl1"
      }
    },
    {
      "cell_type": "markdown",
      "source": [
        "### 텍스트\n",
        "- 텍스트 마이닝 (데이터 분석가)\n",
        "  + 대표 적으로 감정분석 (긍정 / 부정 분류)\n",
        "  + 문자열 : 인코딩하는 방법론이 존재\n",
        "- 자연어 처리 (개발자에 해당)\n",
        "  + 챗봇\n",
        "  + 자동 번역\n",
        "- 기본 딥러닝 알고리즘 / RNN & LSTM\n",
        "  + 현실에서 쓸까? 안쓴다!\n",
        "- 자료\n",
        "  + 딥러닝을 이용한 자연어 처리 입문 (텐서플로) : https://wikidocs.net/book/2155\n",
        "  + Pytorch로 시작하는 딥러닝 입문 : https://wikidocs.net/32471\n",
        "- 분야 선정\n",
        "  + 영상인식, 이미지 분류, 음성, 자연어"
      ],
      "metadata": {
        "id": "Cprb8hmvyX-4"
      }
    },
    {
      "cell_type": "markdown",
      "source": [
        "### 순환 신경망\n",
        "- 이미지는 픽셀값이 어느정도 고정이 되어 있음\n",
        "  + 28x28로 정의 / 모든 데이터는 28x28 맞출 수 있음\n",
        "- 텍스트\n",
        "  + 값이 고정이 불가함\n",
        "- 494p\n",
        "- I am a boy(1, 4, 3)\n",
        "- I am a handsome boy(1, 4, 1, 2)"
      ],
      "metadata": {
        "id": "6xp690Dx2sw9"
      }
    },
    {
      "cell_type": "markdown",
      "source": [
        "- Reference : 혼자 공부하는 머신러닝 + 딥러닝"
      ],
      "metadata": {
        "id": "WvcMqpZoR5Ca"
      }
    }
  ]
}