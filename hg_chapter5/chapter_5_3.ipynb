{
  "nbformat": 4,
  "nbformat_minor": 0,
  "metadata": {
    "colab": {
      "name": "chapter_5_3.ipynb",
      "provenance": [],
      "collapsed_sections": [],
      "authorship_tag": "ABX9TyNbTXVTmbC+EK9hgD1vSn0P",
      "include_colab_link": true
    },
    "kernelspec": {
      "name": "python3",
      "display_name": "Python 3"
    },
    "language_info": {
      "name": "python"
    }
  },
  "cells": [
    {
      "cell_type": "markdown",
      "metadata": {
        "id": "view-in-github",
        "colab_type": "text"
      },
      "source": [
        "<a href=\"https://colab.research.google.com/github/kmk3593/google_drive/blob/main/hg_chapter5/chapter_5_3.ipynb\" target=\"_parent\"><img src=\"https://colab.research.google.com/assets/colab-badge.svg\" alt=\"Open In Colab\"/></a>"
      ]
    },
    {
      "cell_type": "markdown",
      "source": [
        "# 트리의 앙상블\n",
        "- lightGBM 기억!\n",
        "  + GBM --> XGBoost --> LightGBM\n",
        "  + 참고 1. 모델개발속도가 빨라졌나?\n",
        "  + 참고 2. 모델의 성능이 좋아졌나?\n",
        "- TabNet(2019)\n",
        "  + 딥러닝 컨셉!"
      ],
      "metadata": {
        "id": "lyJzTXqrmXiy"
      }
    },
    {
      "cell_type": "markdown",
      "source": [
        "### 랜덤 포레스트(Forest)\n",
        "- 결정 트리를 랜덤하게 만들어 결정 트리의 숲을 만든다.\n",
        "- 결정 트리 나무를 500개 심기\n",
        "- 최종적인 결정은 투표 방식\n",
        "  + 나무-1 : 양성\n",
        "  + 나무_2 : 음성\n",
        "  + 나무_3 : 양성\n",
        "  ..\n",
        "  + 나무-500 : 양성\n"
      ],
      "metadata": {
        "id": "YiK3hWZAoEy1"
      }
    },
    {
      "cell_type": "markdown",
      "source": [
        "- 데이터 불러오기\n",
        "- 넘파이 배열로 변환\n",
        "- 데이터 세트 나누기"
      ],
      "metadata": {
        "id": "fUtytSua86dK"
      }
    },
    {
      "cell_type": "code",
      "execution_count": null,
      "metadata": {
        "id": "3jtIXCAUmTCh"
      },
      "outputs": [],
      "source": [
        "import numpy as np\n",
        "import pandas as pd\n",
        "from sklearn.model_selection import train_test_split\n",
        "\n",
        "wine = pd.read_csv('https://bit.ly/wine_csv_data')\n",
        "\n",
        "data = wine[['alcohol', 'sugar', 'pH']].to_numpy()\n",
        "target = wine['class'].to_numpy()\n",
        "\n",
        "train_input, test_input, train_target, test_target = train_test_split(data, \n",
        "                                                                      target, \n",
        "                                                                      test_size=0.2, \n",
        "                                                                      random_state=42)"
      ]
    },
    {
      "cell_type": "markdown",
      "source": [
        "- 267p\n",
        "  + cross_validate()함수 : 교차 검증 수행 \n",
        "  + RandomForestClassifier는 기본적으로 100개의 트리를 사용하므로 n_jops=-1로 지정하여 모든 CPU 코어를 사용한다."
      ],
      "metadata": {
        "id": "SZqm85uqpO1o"
      }
    },
    {
      "cell_type": "code",
      "source": [
        "from sklearn.model_selection import cross_validate\n",
        "from sklearn.ensemble import RandomForestClassifier\n",
        "rf = RandomForestClassifier(n_jobs=-1, random_state=42)   # n_jobs = -1은 pc의 모든 코어를 사용하겠다는 뜻\n",
        "scores = cross_validate(rf, train_input, train_target,\n",
        "                        return_train_score = True, n_jobs=-1)\n",
        "\n",
        "print(np.mean(scores['train_score']), np.mean(scores['test_score']))"
      ],
      "metadata": {
        "colab": {
          "base_uri": "https://localhost:8080/"
        },
        "id": "gXUJh-iDpV9l",
        "outputId": "1e81a14e-607c-43c0-9b81-451c2c6ae3ea"
      },
      "execution_count": null,
      "outputs": [
        {
          "output_type": "stream",
          "name": "stdout",
          "text": [
            "0.9973541965122431 0.8905151032797809\n"
          ]
        }
      ]
    },
    {
      "cell_type": "markdown",
      "source": [
        "- 랜덤 포레스트는 결정 트리의 앙상블이기 때문에 DecisionTreeClassifier가 제공하는 매개변수를 모두 제공한다.\n",
        "- 또한 결정 트리의 큰 장점 중 하나인 특성 중요도를 계산한다.\n",
        "- 랜덤 포레스트 모델을 훈련 세트에 훈련한 후 특성 중요도를 출력해 본다."
      ],
      "metadata": {
        "id": "yJ3KDZFS9xAe"
      }
    },
    {
      "cell_type": "code",
      "source": [
        "rf.fit(train_input, train_target)\n",
        "print(rf.feature_importances_)"
      ],
      "metadata": {
        "colab": {
          "base_uri": "https://localhost:8080/"
        },
        "id": "BSz86FSlqNLj",
        "outputId": "9ce43c35-57bc-483f-dcad-764a4ce1cf6e"
      },
      "execution_count": null,
      "outputs": [
        {
          "output_type": "stream",
          "name": "stdout",
          "text": [
            "[0.23167441 0.50039841 0.26792718]\n"
          ]
        }
      ]
    },
    {
      "cell_type": "markdown",
      "source": [
        "- 두 번째 특성인 sugar가 가장 중요도가 높다는 것을 알 수 있다."
      ],
      "metadata": {
        "id": "9aYcLz4K-DZT"
      }
    },
    {
      "cell_type": "markdown",
      "source": [
        "- RandomForestClassifier는 자체적으로 모델을 평가하는 점수를 얻을 수도 있다.\n",
        "- 이 점수를 얻으려면 RandomForestClassifier 클래스의 oob_score 매개변수를 True로 지정해야 한다.\n",
        "- oob_score = True로 지정하고 모델을 훈련하여 OOB 점수를 출력해보자."
      ],
      "metadata": {
        "id": "g0IDdYUs-Xiz"
      }
    },
    {
      "cell_type": "code",
      "source": [
        "rf = RandomForestClassifier(oob_score = True, n_jobs=-1, random_state=42)\n",
        "rf.fit(train_input, train_target)\n",
        "print(rf.oob_score_)"
      ],
      "metadata": {
        "colab": {
          "base_uri": "https://localhost:8080/"
        },
        "id": "x29r-uD3qq3M",
        "outputId": "98c49751-7563-4090-a3c9-1fc0f18f10c3"
      },
      "execution_count": null,
      "outputs": [
        {
          "output_type": "stream",
          "name": "stdout",
          "text": [
            "0.8934000384837406\n"
          ]
        }
      ]
    },
    {
      "cell_type": "markdown",
      "source": [
        "- 교차 검즈에서 얻은 점수와 매우 비슷한 결과를 얻었다."
      ],
      "metadata": {
        "id": "yLeZ4rDa_Sx3"
      }
    },
    {
      "cell_type": "markdown",
      "source": [
        "### 그래이디언트 부스팅\n",
        "- 그 이전 트리의 오차를 보완하는 방식으로 사용\n",
        "- 깊이가 얕은 트리를 사용.\n",
        "- 학습률 매개변수로 속도를 조절.\n",
        "- 단점 : 속도가 느림."
      ],
      "metadata": {
        "id": "gI_Mp0x4sliT"
      }
    },
    {
      "cell_type": "code",
      "source": [
        "from sklearn.ensemble import GradientBoostingClassifier\n",
        "gb = GradientBoostingClassifier(random_state=42)\n",
        "scores = cross_validate(gb, train_input, train_target,\n",
        "                        return_train_score = True, n_jobs=-1)\n",
        "\n",
        "print(np.mean(scores['train_score']), np.mean(scores['test_score']))"
      ],
      "metadata": {
        "colab": {
          "base_uri": "https://localhost:8080/"
        },
        "id": "GmQxFDwjs24E",
        "outputId": "f6c1d67e-cf6a-44e5-e832-85963f71704c"
      },
      "execution_count": null,
      "outputs": [
        {
          "output_type": "stream",
          "name": "stdout",
          "text": [
            "0.8881086892152563 0.8720430147331015\n"
          ]
        }
      ]
    },
    {
      "cell_type": "markdown",
      "source": [
        "- 거의 과대적합이 되지 않았다.\n",
        "- 그래디언트 부스팅은 결정 트리의 개수를 늘려도 과대적합에 매우 강하다.\n",
        "- 학습률을 증가시키고 트리의 개수를 늘리면 조금 더 성능이 향상될 수 있다."
      ],
      "metadata": {
        "id": "IKK22klr_a7Z"
      }
    },
    {
      "cell_type": "code",
      "source": [
        "gb = GradientBoostingClassifier(n_estimators = 500, learning_rate = 0.2, random_state = 42)\n",
        "scores = cross_validate(gb, train_input, train_target,\n",
        "                        return_train_score = True, n_jobs=-1)\n",
        "\n",
        "print(np.mean(scores['train_score']), np.mean(scores['test_score']))"
      ],
      "metadata": {
        "colab": {
          "base_uri": "https://localhost:8080/"
        },
        "id": "qEWo8ES2tfBj",
        "outputId": "77e1943f-e39f-46c1-d51b-b3546654a228"
      },
      "execution_count": null,
      "outputs": [
        {
          "output_type": "stream",
          "name": "stdout",
          "text": [
            "0.9464595437171814 0.8780082549788999\n"
          ]
        }
      ]
    },
    {
      "cell_type": "markdown",
      "source": [
        "- 결정 트리 개수를 500개로 늘렸다. 5배로 늘렸지만 과대적합을 잘 억제하고 있다.\n",
        "- 학습률 learning_rate의 기본값은 0.1이다.\n",
        "- 그레이디언트 부스팅도 특성 중요도를 제공한다.\n",
        "- 결과에서 볼 수 있듯이 그레이디언트 부스팅이 랜덤 포레스트보다 일부 특성(당도)에 더 집중한다."
      ],
      "metadata": {
        "id": "dPUu2QVyBW__"
      }
    },
    {
      "cell_type": "code",
      "source": [
        "gb.fit(train_input, train_target)\n",
        "print(gb.feature_importances_)"
      ],
      "metadata": {
        "colab": {
          "base_uri": "https://localhost:8080/"
        },
        "id": "eb_8oPnXBqHp",
        "outputId": "91400537-fc85-4b1a-fdd1-40bfedf51eef"
      },
      "execution_count": 10,
      "outputs": [
        {
          "output_type": "stream",
          "name": "stdout",
          "text": [
            "[0.15872278 0.68010884 0.16116839]\n"
          ]
        }
      ]
    },
    {
      "cell_type": "markdown",
      "source": [
        "- 흐름\n",
        "  + 0. 데이터 전처리 / 시각화\n",
        "  + 1. 기본 모형으로 전체 흐름을 설계\n",
        "  + 2. 여러 모형으로 비교 대조\n",
        "  + 3. 교차 검증, 하이퍼 파라미터 성능 비교\n",
        "  + ...\n",
        "  + 1등 하는 그날까지"
      ],
      "metadata": {
        "id": "dF_nCotGu1hD"
      }
    },
    {
      "cell_type": "markdown",
      "source": [
        "- Reference : 혼자 공부하는 머신러닝 + 딥러닝 "
      ],
      "metadata": {
        "id": "koF_t7jSvQDO"
      }
    }
  ]
}