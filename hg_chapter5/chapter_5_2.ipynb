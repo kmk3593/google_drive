{
  "nbformat": 4,
  "nbformat_minor": 0,
  "metadata": {
    "colab": {
      "name": "chapter_5_2.ipynb",
      "provenance": [],
      "collapsed_sections": [],
      "authorship_tag": "ABX9TyM54UvQ7SyVXsX7bFfJQ744",
      "include_colab_link": true
    },
    "kernelspec": {
      "name": "python3",
      "display_name": "Python 3"
    },
    "language_info": {
      "name": "python"
    }
  },
  "cells": [
    {
      "cell_type": "markdown",
      "metadata": {
        "id": "view-in-github",
        "colab_type": "text"
      },
      "source": [
        "<a href=\"https://colab.research.google.com/github/kmk3593/google_drive/blob/main/hg_chapter5/chapter_5_2.ipynb\" target=\"_parent\"><img src=\"https://colab.research.google.com/assets/colab-badge.svg\" alt=\"Open In Colab\"/></a>"
      ]
    },
    {
      "cell_type": "markdown",
      "source": [
        "# 교차 검증과 그리드 서치\n",
        "- 키워드 : 하이퍼 파라미터\n",
        "- 데이터가 작을 때, 주로 사용\n",
        "- 하이퍼 파라미터\n",
        "  + max_depth : 3, 정확도가 84%\n",
        "- 결론\n",
        "  + 모르면 디폴트만 쓰자!\n",
        "  + 가성비 (시간 대비 성능 보장 안됨!)\n"
      ],
      "metadata": {
        "id": "w_FakUQNMyOA"
      }
    },
    {
      "cell_type": "markdown",
      "source": [
        "### 검증 세트\n",
        "- 테스트 세트(1회성)\n",
        "- 훈련 데이터를 훈련 데이터 + 검증 데이터로 재 분할"
      ],
      "metadata": {
        "id": "AaWLAgzFO2RH"
      }
    },
    {
      "cell_type": "markdown",
      "source": [
        "### 현실\n",
        "- 테스트 데이터가 별도로 존재하지 않음!\n",
        "- 전체 데이터 = 훈련 (6) : 검증 (2) : 테스트 (2)\n",
        "  + 테스트 데이터는 모르는 데이터로 생각!"
      ],
      "metadata": {
        "id": "7KhjO5c6Pa0D"
      }
    },
    {
      "cell_type": "markdown",
      "source": [
        "- 캐글\n",
        "  - 캐글에서는 훈련, 테스트 데이터가 제공된다. 훈련 데이터만 한 번 쪼개서 사용하면 된다."
      ],
      "metadata": {
        "id": "UtM249V7QjrU"
      }
    },
    {
      "cell_type": "markdown",
      "source": [
        "### 참고\n",
        "- 사이킷 런 : https://scikit-learn.org/stable/modules/generated/sklearn.tree.DecisionTreeClassifier.html\n",
        "- 구글링 : 그리드 탐색(서치) vs 랜덤 탐색(서치)"
      ],
      "metadata": {
        "id": "lqHRP_41Ntmm"
      }
    },
    {
      "cell_type": "code",
      "execution_count": null,
      "metadata": {
        "id": "jKmys0YHMuJK"
      },
      "outputs": [],
      "source": [
        "import pandas as pd\n",
        "wine = pd.read_csv(\"https://bit.ly/wine_csv_data\")\n",
        "\n",
        "data = wine[['alcohol', 'sugar', 'pH']].to_numpy()\n",
        "target = wine['class'].to_numpy()"
      ]
    },
    {
      "cell_type": "code",
      "source": [
        "from sklearn.model_selection import train_test_split\n",
        "\n",
        "train_input, test_input, train_target, test_target = train_test_split(\n",
        "    data, target, test_size=0.2, random_state=42\n",
        ")"
      ],
      "metadata": {
        "id": "g89bweVNQu3j"
      },
      "execution_count": null,
      "outputs": []
    },
    {
      "cell_type": "code",
      "source": [
        "sub_input, val_input, sub_target, val_target = train_test_split(\n",
        "    train_input, train_target, test_size=0.2, random_state=42\n",
        ")"
      ],
      "metadata": {
        "id": "RFuDqZHRQ7E-"
      },
      "execution_count": null,
      "outputs": []
    },
    {
      "cell_type": "markdown",
      "source": [
        "### 모델 만든 후 평가"
      ],
      "metadata": {
        "id": "1lDkHFzMRF3T"
      }
    },
    {
      "cell_type": "code",
      "source": [
        "from sklearn.tree import DecisionTreeClassifier\n",
        "dt = DecisionTreeClassifier(random_state=42)\n",
        "dt.fit(sub_input, sub_target)\n",
        "print(dt.score(sub_input, sub_target))\n",
        "print(dt.score(val_input, val_target))"
      ],
      "metadata": {
        "colab": {
          "base_uri": "https://localhost:8080/"
        },
        "id": "Xp8t82oSRHe3",
        "outputId": "a5cf7a7e-9f2f-48a6-88d2-2cf36ffd9330"
      },
      "execution_count": null,
      "outputs": [
        {
          "output_type": "stream",
          "name": "stdout",
          "text": [
            "0.9971133028626413\n",
            "0.864423076923077\n"
          ]
        }
      ]
    },
    {
      "cell_type": "markdown",
      "source": [
        "### 교차 검증\n",
        "- 많이 하면 많이 할수록 좋다.\n",
        "- 교차 검증의 목적 : 좋은 모델이 만들어진다!\n",
        "  + 좋은 모델 != 성능 좋은 모델\n",
        "  + 좋은 모델 = 과대 적합이 아닌 모델 = 모형의 오차가 적은 모델 = 안정적인 모델\n",
        "- 교재 245p\n",
        "  + 모델 평가 1 : 90%\n",
        "  + 모델 평가 2 : 85%\n",
        "  + 모델 평가 3 : 80%\n",
        "- 단점 : 시간이 오래 걸림"
      ],
      "metadata": {
        "id": "NC4cOZQxRev5"
      }
    },
    {
      "cell_type": "markdown",
      "source": [
        "### 교차 검증 함수"
      ],
      "metadata": {
        "id": "p85W-q_9TZRS"
      }
    },
    {
      "cell_type": "code",
      "source": [
        "from sklearn.model_selection import cross_validate\n",
        "scores = cross_validate(dt, train_input, train_target)\n",
        "print(scores)"
      ],
      "metadata": {
        "colab": {
          "base_uri": "https://localhost:8080/"
        },
        "id": "TcZ6VqQgSLeU",
        "outputId": "83951012-cbb5-4adb-db3d-d1ab2b0ecb1f"
      },
      "execution_count": null,
      "outputs": [
        {
          "output_type": "stream",
          "name": "stdout",
          "text": [
            "{'fit_time': array([0.01164412, 0.00772762, 0.00744891, 0.00796771, 0.00716805]), 'score_time': array([0.00128865, 0.00070405, 0.0007143 , 0.00097823, 0.00069904]), 'test_score': array([0.86923077, 0.84615385, 0.87680462, 0.84889317, 0.83541867])}\n"
          ]
        }
      ]
    },
    {
      "cell_type": "markdown",
      "source": [
        "- 최종점수 평균 구하기"
      ],
      "metadata": {
        "id": "gikbYTzWT-wl"
      }
    },
    {
      "cell_type": "code",
      "source": [
        "import numpy as np\n",
        "print(np.mean(scores['test_score']))"
      ],
      "metadata": {
        "colab": {
          "base_uri": "https://localhost:8080/"
        },
        "id": "PH907tLAUAnt",
        "outputId": "a8756997-e4c4-4289-8b61-9c82f8437515"
      },
      "execution_count": null,
      "outputs": [
        {
          "output_type": "stream",
          "name": "stdout",
          "text": [
            "0.855300214703487\n"
          ]
        }
      ]
    },
    {
      "cell_type": "markdown",
      "source": [
        "- 훈련 세트 섞은 후, 10-폴드 교차검증"
      ],
      "metadata": {
        "id": "oR1noolUULGV"
      }
    },
    {
      "cell_type": "code",
      "source": [
        "from sklearn.model_selection import StratifiedKFold\n",
        "splitter = StratifiedKFold(n_splits = 10, shuffle = True, random_state=42)\n",
        "scores = cross_validate(dt, train_input, train_target, cv = splitter)\n",
        "\n",
        "print(np.mean(scores['test_score']))"
      ],
      "metadata": {
        "colab": {
          "base_uri": "https://localhost:8080/"
        },
        "id": "pVgnOK5mUP6X",
        "outputId": "712b8995-37dc-42ed-a5dc-e1c6d263bc87"
      },
      "execution_count": null,
      "outputs": [
        {
          "output_type": "stream",
          "name": "stdout",
          "text": [
            "0.8574181117533719\n"
          ]
        }
      ]
    },
    {
      "cell_type": "markdown",
      "source": [
        "### 하이퍼 파라미터 튜닝 꼭 하고 싶다!\n",
        "- 랜덤 서치 사용하자! \n",
        "  - 그리드 서치보다 편리하다\n",
        "- 자동으로 잡아주는 라이브러리들이 등장하기 시작함\n",
        "  - hyperopt"
      ],
      "metadata": {
        "id": "yndGC-GxZ5ZE"
      }
    },
    {
      "cell_type": "code",
      "source": [
        "%%time\n",
        "\n",
        "from sklearn.model_selection import GridSearchCV\n",
        "params = {\n",
        "    'min_impurity_decrease' : [0.0001, 0.0002, 0.0003, 0.0004, 0.0005],\n",
        "}\n",
        "# dt = DecisionTreeClassifier(random_state=42)\n",
        "gs = GridSearchCV(DecisionTreeClassifier(random_state=42), params, n_jobs=-1)\n",
        "gs.fit(train_input, train_target)"
      ],
      "metadata": {
        "colab": {
          "base_uri": "https://localhost:8080/"
        },
        "id": "cMo0a_ctcGGd",
        "outputId": "91a1b55c-814b-4ad9-f8d5-2f508a1689a0"
      },
      "execution_count": null,
      "outputs": [
        {
          "output_type": "stream",
          "name": "stdout",
          "text": [
            "CPU times: user 83.8 ms, sys: 1.66 ms, total: 85.5 ms\n",
            "Wall time: 264 ms\n"
          ]
        }
      ]
    },
    {
      "cell_type": "markdown",
      "source": [
        "- pamas에 2줄을 쓰면 시간이 2배 이상 더 걸린다."
      ],
      "metadata": {
        "id": "6dzYoTSpcKvq"
      }
    },
    {
      "cell_type": "code",
      "source": [
        "%%time\n",
        "\n",
        "from sklearn.model_selection import GridSearchCV\n",
        "params = {\n",
        "    'min_impurity_decrease' : [0.0001, 0.0002, 0.0003, 0.0004, 0.0005],\n",
        "    'max_depth' : [3, 4, 5, 6, 7]\n",
        "}\n",
        "# dt = DecisionTreeClassifier(random_state=42)\n",
        "gs = GridSearchCV(DecisionTreeClassifier(random_state=42), params, n_jobs=-1)\n",
        "gs.fit(train_input, train_target)"
      ],
      "metadata": {
        "colab": {
          "base_uri": "https://localhost:8080/"
        },
        "id": "_1f09kHVbAmg",
        "outputId": "a58ddee4-0a39-4eb5-e16b-c3bad1ab3e0c"
      },
      "execution_count": null,
      "outputs": [
        {
          "output_type": "stream",
          "name": "stdout",
          "text": [
            "CPU times: user 191 ms, sys: 1.13 ms, total: 192 ms\n",
            "Wall time: 674 ms\n"
          ]
        }
      ]
    },
    {
      "cell_type": "code",
      "source": [
        "%%time\n",
        "\n",
        "from sklearn.model_selection import GridSearchCV\n",
        "params = {\n",
        "    'min_impurity_decrease' : [0.0001, 0.0002, 0.0003, 0.0004, 0.0005],\n",
        "    'max_depth' : [3, 4, 5, 6, 7]\n",
        "}\n",
        "# dt = DecisionTreeClassifier(random_state=42)\n",
        "gs = GridSearchCV(DecisionTreeClassifier(random_state=42), params, n_jobs=-1)\n",
        "gs.fit(train_input, train_target)\n",
        "\n",
        "dt = gs.best_estimator_\n",
        "print(dt)\n",
        "print(dt.score(train_input, train_target))\n",
        "print(gs.best_params_)"
      ],
      "metadata": {
        "colab": {
          "base_uri": "https://localhost:8080/"
        },
        "id": "iTVGVlO6cTny",
        "outputId": "fa4846f1-fc0a-498c-df3e-ec035daa3b2d"
      },
      "execution_count": null,
      "outputs": [
        {
          "output_type": "stream",
          "name": "stdout",
          "text": [
            "DecisionTreeClassifier(max_depth=7, min_impurity_decrease=0.0005,\n",
            "                       random_state=42)\n",
            "0.8830094285164518\n",
            "{'max_depth': 7, 'min_impurity_decrease': 0.0005}\n",
            "CPU times: user 284 ms, sys: 38.7 ms, total: 323 ms\n",
            "Wall time: 2.15 s\n"
          ]
        }
      ]
    },
    {
      "cell_type": "markdown",
      "source": [
        "- 이 부분에 의해 결과가 (5x5=)25개 출력된다.\n",
        "  - 'min_impurity_decrease' : [0.0001, 0.0002, 0.0003, 0.0004, 0.0005]\n",
        "  - 'max_depth' : [3, 4, 5, 6, 7]"
      ],
      "metadata": {
        "id": "XNSKsMH7d7a2"
      }
    },
    {
      "cell_type": "code",
      "source": [
        "print(gs.cv_results_['mean_test_score'])"
      ],
      "metadata": {
        "colab": {
          "base_uri": "https://localhost:8080/"
        },
        "id": "cfflHiqOdYxH",
        "outputId": "8d833cf1-df0d-49ac-ed44-ca5c171014aa"
      },
      "execution_count": null,
      "outputs": [
        {
          "output_type": "stream",
          "name": "stdout",
          "text": [
            "[0.84125583 0.84125583 0.84125583 0.84125583 0.84125583 0.85337806\n",
            " 0.85337806 0.85337806 0.85337806 0.85318557 0.85780355 0.85799604\n",
            " 0.85857352 0.85857352 0.85838102 0.85645721 0.85799678 0.85876675\n",
            " 0.85972866 0.86088306 0.85607093 0.85761031 0.85799511 0.85991893\n",
            " 0.86280466]\n"
          ]
        }
      ]
    },
    {
      "cell_type": "markdown",
      "source": [
        "### 랜덤 서치\n",
        "- p252. 매개변수 값의목록을 전달하는 것이 아니라 매개변수를 샘플링할 수 있도록 확률 분포 객체를 전달."
      ],
      "metadata": {
        "id": "p6Nv9BwSeJpa"
      }
    },
    {
      "cell_type": "code",
      "source": [
        "from scipy.stats import uniform, randint\n",
        "rgen = randint(0, 10)\n",
        "rgen.rvs(10)"
      ],
      "metadata": {
        "colab": {
          "base_uri": "https://localhost:8080/"
        },
        "id": "fdaL4YskeUxQ",
        "outputId": "ecad097f-4365-4a94-b006-312a005d02d4"
      },
      "execution_count": null,
      "outputs": [
        {
          "output_type": "execute_result",
          "data": {
            "text/plain": [
              "array([7, 9, 7, 4, 2, 0, 4, 8, 6, 3])"
            ]
          },
          "metadata": {},
          "execution_count": 18
        }
      ]
    },
    {
      "cell_type": "code",
      "source": [
        "np.unique(rgen.rvs(1000), return_counts = True)"
      ],
      "metadata": {
        "colab": {
          "base_uri": "https://localhost:8080/"
        },
        "id": "42yv4OUnekv_",
        "outputId": "89a27934-cb01-48b4-e21c-4fe71329c518"
      },
      "execution_count": null,
      "outputs": [
        {
          "output_type": "execute_result",
          "data": {
            "text/plain": [
              "(array([0, 1, 2, 3, 4, 5, 6, 7, 8, 9]),\n",
              " array([103,  90,  88, 110,  84, 115, 105, 102, 104,  99]))"
            ]
          },
          "metadata": {},
          "execution_count": 20
        }
      ]
    },
    {
      "cell_type": "markdown",
      "source": [
        "- 254p"
      ],
      "metadata": {
        "id": "HqurbNCjeySg"
      }
    },
    {
      "cell_type": "code",
      "source": [
        "from sklearn.model_selection import RandomizedSearchCV\n",
        "\n",
        "params = {\n",
        "    'min_impurity_decrease' : uniform(0.0001, 0.001),\n",
        "    'max_depth' : randint(20,50)\n",
        "}\n",
        "\n",
        "gs = RandomizedSearchCV(DecisionTreeClassifier(random_state=42),\n",
        "                        params, n_iter = 100, n_jobs = -1, random_state=42)\n",
        "\n",
        "gs.fit(train_input, train_target)"
      ],
      "metadata": {
        "colab": {
          "base_uri": "https://localhost:8080/"
        },
        "id": "wukRy6vcexZm",
        "outputId": "f9e92bb2-7db6-45bd-a9ec-efbfb4bc5b99"
      },
      "execution_count": null,
      "outputs": [
        {
          "output_type": "execute_result",
          "data": {
            "text/plain": [
              "RandomizedSearchCV(estimator=DecisionTreeClassifier(random_state=42),\n",
              "                   n_iter=100, n_jobs=-1,\n",
              "                   param_distributions={'max_depth': <scipy.stats._distn_infrastructure.rv_frozen object at 0x7fa6910bdd90>,\n",
              "                                        'min_impurity_decrease': <scipy.stats._distn_infrastructure.rv_frozen object at 0x7fa6907f3810>},\n",
              "                   random_state=42)"
            ]
          },
          "metadata": {},
          "execution_count": 21
        }
      ]
    },
    {
      "cell_type": "markdown",
      "source": [
        "- 위 parmas에 정의된 매개변수 범위에서 총 100번(n_iter 매개변수)을 샘플링하여 교차 검증을 수행하고 최적의 매개변수 조합을 찾는다.\n",
        "- 앞서 그리드 서치보다 훨씬 교차 검증 수를 줄이면서 넓은 영역을 효과적으로 탐색할 수 있다.\n",
        "- 결과를 확인해보자. 먼저 최적의 매개변수 조합을 출력한다."
      ],
      "metadata": {
        "id": "MZ9nKHbZ7Sug"
      }
    },
    {
      "cell_type": "code",
      "source": [
        "print(gs.best_params_)"
      ],
      "metadata": {
        "colab": {
          "base_uri": "https://localhost:8080/"
        },
        "id": "NHQGXYNKfus-",
        "outputId": "8514a39d-d54d-4fdf-c094-fba491a688a2"
      },
      "execution_count": 23,
      "outputs": [
        {
          "output_type": "stream",
          "name": "stdout",
          "text": [
            "{'max_depth': 29, 'min_impurity_decrease': 0.000437615171403628}\n"
          ]
        }
      ]
    },
    {
      "cell_type": "markdown",
      "source": [
        "- 최고의 교차 검증 점수도 확인한다."
      ],
      "metadata": {
        "id": "YTCsEuhA7p0V"
      }
    },
    {
      "cell_type": "code",
      "source": [
        "print(np.max(gs.cv_results_['mean_test_score']))"
      ],
      "metadata": {
        "colab": {
          "base_uri": "https://localhost:8080/"
        },
        "id": "dJyGcOs47sB4",
        "outputId": "7b9da32d-0ec9-4447-9496-dd68d8aa7af0"
      },
      "execution_count": 24,
      "outputs": [
        {
          "output_type": "stream",
          "name": "stdout",
          "text": [
            "0.8689635004071962\n"
          ]
        }
      ]
    },
    {
      "cell_type": "markdown",
      "source": [
        "- 최적의 모델은 이미 전체 훈련 세트(train_input, train_target)로 훈련되어 best_estimator_속성에 저장되어 있다. \n",
        "- 이 모델을 최종 모델로 결정하고 테스트 세트의 성능을 확인해 보자"
      ],
      "metadata": {
        "id": "CoH981oA7yCc"
      }
    },
    {
      "cell_type": "code",
      "source": [
        "dt = gs.best_estimator_\n",
        "print(dt.score(test_input, test_target))"
      ],
      "metadata": {
        "colab": {
          "base_uri": "https://localhost:8080/"
        },
        "id": "AqcMaqsr7-W8",
        "outputId": "53ea0608-b5ce-4fb2-b489-5c34e8112b05"
      },
      "execution_count": 25,
      "outputs": [
        {
          "output_type": "stream",
          "name": "stdout",
          "text": [
            "0.8638461538461538\n"
          ]
        }
      ]
    },
    {
      "cell_type": "markdown",
      "source": [
        "- 테스트 세트 점수는 검증 세트에 대한 점수보다 조금 작은 것이 일반적이다.\n",
        "- 여기까지 두 서치를 사용해 본 결과, 랜덤 서치가 더 사용하기 용이하였다."
      ],
      "metadata": {
        "id": "e_aBBmHX8GSR"
      }
    },
    {
      "cell_type": "markdown",
      "source": [
        "- Reference : 혼자 공부하는 머신러닝 + 딥러닝"
      ],
      "metadata": {
        "id": "FYXpwjLw1ylw"
      }
    }
  ]
}