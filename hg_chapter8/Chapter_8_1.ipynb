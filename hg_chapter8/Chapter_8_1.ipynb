{
  "nbformat": 4,
  "nbformat_minor": 0,
  "metadata": {
    "colab": {
      "name": "Chapter_8_1.ipynb",
      "provenance": [],
      "collapsed_sections": [],
      "authorship_tag": "ABX9TyPkWxwSqxW6HnwVulrwkDbM",
      "include_colab_link": true
    },
    "kernelspec": {
      "name": "python3",
      "display_name": "Python 3"
    },
    "language_info": {
      "name": "python"
    }
  },
  "cells": [
    {
      "cell_type": "markdown",
      "metadata": {
        "id": "view-in-github",
        "colab_type": "text"
      },
      "source": [
        "<a href=\"https://colab.research.google.com/github/kmk3593/google_drive/blob/main/hg_chapter8/Chapter_8_1.ipynb\" target=\"_parent\"><img src=\"https://colab.research.google.com/assets/colab-badge.svg\" alt=\"Open In Colab\"/></a>"
      ]
    },
    {
      "cell_type": "markdown",
      "source": [
        "# 합성곱 신경망\n",
        "- 코드보다는 용어 정리가 중요하다\n",
        "- 더 나은 정확도를 위한 발전 과정\n",
        "  - 로지스틱 회귀 (일반 ML 모형) : 81%\n",
        "  - 인공신경망 (딥러닝 초기 모형) : 87%\n",
        "  - 합성곱 (Convolution, CNN)"
      ],
      "metadata": {
        "id": "VS6mZQHGQ_Sq"
      }
    },
    {
      "cell_type": "markdown",
      "source": [
        "- 합성곱 (CNN)\n",
        "  - 이미지의 특성을 뽑아내는 과정\n",
        "  - 합성곱에서는 뉴런이 입력층 위를 이동하면서 출력을 만든다. = 도장을 연상하라 \n",
        "  - 합성곱 층의 뉴런에 있는 가중치 개수는 하이퍼 파라미터이다.\n",
        "    + 발전사 : alexnet -> resnet -> efficientnet\n",
        "    + 채널, 이미지의 너비, 크기 (파라미터 튜닝)\n",
        "    + Vision Transformer\n",
        "  - 비디오\n",
        "    + 객체인식(Object Detection)\n",
        "    + Yolo 논문\n",
        "\n",
        "- RNN / LSTM (자연어 처리)\n",
        "  + 구글 2017년 Transformer (논문)"
      ],
      "metadata": {
        "id": "lMCTtwG4TGHd"
      }
    },
    {
      "cell_type": "markdown",
      "source": [
        "- 필터 (filter)\n",
        "  - 합성곱에서의 뉴런\n",
        "    - 뉴런 개수를 이야기할 때 필터라 칭한다.\n",
        "    - 합성곱에서는 완전 연결 신경망과 달리 뉴런을 필터라 부른다.\n",
        "  - 혹은 커널(kernel)이라 부른다.\n",
        "    - 입력에 곱해지는 가중치를의미할 때 커널이라 부른다."
      ],
      "metadata": {
        "id": "HQtK3na0bXX1"
      }
    },
    {
      "cell_type": "markdown",
      "source": [
        "### 합성곱의 장점\n",
        "- 기존 : 1차원 배열에서만 연산이 가능\n",
        "- 2차원 배열에도 연산을 할 수 있도록 구현\n",
        "  + 입력이 2차원 배열이 되므로 필터도 2차원이다.\n",
        "  + 선형대수를 공부해야 하나요??\n"
      ],
      "metadata": {
        "id": "vsJk8mM5c3Ob"
      }
    },
    {
      "cell_type": "code",
      "execution_count": 2,
      "metadata": {
        "colab": {
          "base_uri": "https://localhost:8080/"
        },
        "id": "rwmtjK-bQ4oC",
        "outputId": "2e3b6eab-7f80-4958-8817-b0a5fc483ad6"
      },
      "outputs": [
        {
          "output_type": "execute_result",
          "data": {
            "text/plain": [
              "<keras.layers.convolutional.Conv2D at 0x7f6c99df5c90>"
            ]
          },
          "metadata": {},
          "execution_count": 2
        }
      ],
      "source": [
        "from tensorflow import keras\n",
        "keras.layers.Conv2D(10,                   # 필터(즉, 도장)의 개수\n",
        "                    kernel_size=(3,3),    # 필터에 사용할 커널의 크기\n",
        "                    activation = 'relu')  # 활성화 함수 지정"
      ]
    },
    {
      "cell_type": "markdown",
      "source": [
        "### 패딩 (padding)\n",
        "- 입력 배열의 주위를 가상의 원소로 채우는 것.\n",
        "- 실제 입력값이 아니기 때문에 패딩은 0으로 채운다. \n",
        "- 실제 값은 0으로 채워져 있기에 계산에 영향을 미치지 않는다.\n",
        "  + 세임 패딩 (same padding) : 입력 주위에 0으로 패딩 하는 것\n",
        "  + 밸리드 패딩 (valid padding) : 패딩 없이 순수한 입력 배열에서만 합성곱하여 특성 맵을 마드는 것"
      ],
      "metadata": {
        "id": "zfDkefiLl8xS"
      }
    },
    {
      "cell_type": "markdown",
      "source": [
        "### 패딩의 목적\n",
        "- 배열의 크기를 조정하더라도 이미지 원 특성이 손실되는 것을 방지하는 것"
      ],
      "metadata": {
        "id": "uAFLz3B_hqP5"
      }
    },
    {
      "cell_type": "markdown",
      "source": [
        "### 스트라이드 (stride)\n",
        "- 기존에 합성곱 연산은 좌우, 위아래로 한 칸씩 이동했다.\n",
        "  - 두 칸씩 건너뛸 수도 있다.\n",
        "  - 이런 이동의 크기를 '스트라이드'라고  한다.\n",
        "- 두 칸씩 이동하면 특성 맵의 크기가 더 작아진다.\n",
        "  - 커널 도장을 찍는 횟수가 줄어들기 때문.\n",
        "- 디폴트는 1칸 이동이다."
      ],
      "metadata": {
        "id": "YkryzHyvuaNq"
      }
    },
    {
      "cell_type": "code",
      "source": [
        "keras.layers.Conv2D(10,                         # 필터(즉, 도장)의 개수\n",
        "                   kernel_size=(3,3),          # 필터에 사용할 커널의 크기\n",
        "                   activation='relu',          # 활성화 함수 지정\n",
        "                   padding = 'same',           # 세임 패딩\n",
        "                   strides = 1)                # 1칸씩 이동"
      ],
      "metadata": {
        "colab": {
          "base_uri": "https://localhost:8080/"
        },
        "id": "54b60T5vh1Q-",
        "outputId": "a784e59b-a753-4a7a-8b65-127c2c5eb34f"
      },
      "execution_count": 5,
      "outputs": [
        {
          "output_type": "execute_result",
          "data": {
            "text/plain": [
              "<keras.layers.convolutional.Conv2D at 0x7f6c992ba8d0>"
            ]
          },
          "metadata": {},
          "execution_count": 5
        }
      ]
    },
    {
      "cell_type": "markdown",
      "source": [
        "### 풀링 (pooling)\n",
        "- 값을 추출\n",
        "- 100 x 100 이미지 --> (수치로) 주요 이미지의 특성만 뽑은 후, 원 이미지와 같게 만듬 (50 x 50)\n",
        "- 합성곱 층에서 만든 특성 맵의 가로세로 크기를 줄이는 역할을 수행한다.\n",
        "  - 특성맵의 크기를 줄이지는 않는다.\n",
        "- 합성곱처럼 입력 위를 지나가면서 도장을 찍는다.\n",
        "  - 하지만, 풀링에는 가중치가 없다.\n",
        "- 최대 풀링 (max pooling)\n",
        "  - 도장을 찍은 영역에서 가장 큰 값을 고른다.\n",
        "- 평균 풀링 (average pooling)\n",
        "  - 도장을 찍은 영역에서 평균값을 계산한다.\n",
        "- 특성 맵이 여러 개라면 동일한 작업을 반복한다.\n",
        "  - 즉, 10개의 특성 맵이 있다면 풀링을 거친 특성맵도 10개가 된다.\n",
        "- 풀링 영역은 풀링의 크기만큼 이동한다.\n",
        "  - 즉, 겹치지 않고 이동한다.\n",
        "  - 풀링의 크기가 (2,2)이면 가로세로 두 칸씩 이동한다.\n",
        "  - 풀링은 가중치가 없고 풀링 크기와 스트라이드가 같다.\n"
      ],
      "metadata": {
        "id": "v0QjtX98i7nm"
      }
    },
    {
      "cell_type": "code",
      "source": [
        "keras.layers.MaxPooling2D(2,                 # 풀링의 크기. 대부분은 2로 둔다.\n",
        "                          strides=2,         # 2칸씩 이동. 풀링의 크기와 같게 설정된다.\n",
        "                          padding='valid')   # 풀링은 패딩을 하지 않으므로 'valid'로 지정."
      ],
      "metadata": {
        "colab": {
          "base_uri": "https://localhost:8080/"
        },
        "id": "11GhBGHU3z7I",
        "outputId": "471ccf51-45e5-4cd1-b04d-8c90f0121847"
      },
      "execution_count": 6,
      "outputs": [
        {
          "output_type": "execute_result",
          "data": {
            "text/plain": [
              "<keras.layers.pooling.MaxPooling2D at 0x7f6c99253e90>"
            ]
          },
          "metadata": {},
          "execution_count": 6
        }
      ]
    },
    {
      "cell_type": "markdown",
      "source": [
        "- 기억할 점\n",
        "  - 풀링은 가로세로 방향으로만 진행한다.\n",
        "  - 특성 맵의 개수는 변하지 않고 그대로이다."
      ],
      "metadata": {
        "id": "BgTqBa2l4tMH"
      }
    },
    {
      "cell_type": "markdown",
      "source": [
        "### 합성곱 신경망의 전체 구조\n",
        "- p437\n",
        "- 1단계 : 이미지 데이터 입력\n",
        "- 2단계 : 합성곱 층\n",
        "  + (1) kernel_size + padding\n",
        "  + (2) 활성화 함수 적용\n",
        "  + (3) 각각의 특성맵을 산출\n",
        "- 3단계 : 풀링층\n",
        "  + (1) Max Pooling : 최댓값 추출\n",
        "  + (2) 최종 특성맵\n",
        "- 위 과정을 계속 반복하는 것이 CNN 알고리즘\n",
        "- 4단계 : 밀집층 (Fully Connected Layer)\n",
        "  + Chapter 7장\n",
        "  + 3차원 배열을 1차원으로 펼친다. (Flatten 클래스)\n",
        "  + 출력층의 입력이 된다.\n",
        "- 5단계 : 분류 예측값을 산출 (Softmax 활성화 함수)\n",
        "  + 지정한 활성화 함수를 거쳐 최종 예측 확률이 된다."
      ],
      "metadata": {
        "id": "DYN-tG8LncgZ"
      }
    },
    {
      "cell_type": "markdown",
      "source": [
        "주요 키워드 : 전이학습 (Transfer Learning)\n",
        "- 다른 사람이 작성한 학습 코드를 사용한다.\n",
        "- 파인 튜닝 : 미세 조정하는 것이다.\n",
        "  - 캐글 경진대회에서 주로 사용.\n"
      ],
      "metadata": {
        "id": "mYWcZEn8puew"
      }
    }
  ]
}