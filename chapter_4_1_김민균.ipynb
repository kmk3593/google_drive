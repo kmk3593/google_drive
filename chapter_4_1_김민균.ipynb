{
  "nbformat": 4,
  "nbformat_minor": 0,
  "metadata": {
    "colab": {
      "name": "chapter_4_1_김민균.ipynb",
      "provenance": [],
      "collapsed_sections": [],
      "authorship_tag": "ABX9TyMp/X+xXDZdvgzbxT/pxFel",
      "include_colab_link": true
    },
    "kernelspec": {
      "name": "python3",
      "display_name": "Python 3"
    },
    "language_info": {
      "name": "python"
    }
  },
  "cells": [
    {
      "cell_type": "markdown",
      "metadata": {
        "id": "view-in-github",
        "colab_type": "text"
      },
      "source": [
        "<a href=\"https://colab.research.google.com/github/kmk3593/google_drive/blob/main/chapter_4_1_%EA%B9%80%EB%AF%BC%EA%B7%A0.ipynb\" target=\"_parent\"><img src=\"https://colab.research.google.com/assets/colab-badge.svg\" alt=\"Open In Colab\"/></a>"
      ]
    },
    {
      "cell_type": "markdown",
      "source": [
        "# 로지스틱 회귀\n",
        "- 대상이 어떤 타깃에 속할 확률을 구한다."
      ],
      "metadata": {
        "id": "0TNG8Qm0Nbn-"
      }
    },
    {
      "cell_type": "markdown",
      "source": [
        "### 데이터 불러오기\n",
        "- 컬럼 설명 177p 그림"
      ],
      "metadata": {
        "id": "3xxFIzO5M7H4"
      }
    },
    {
      "cell_type": "code",
      "execution_count": null,
      "metadata": {
        "colab": {
          "base_uri": "https://localhost:8080/",
          "height": 206
        },
        "id": "_YEWrd1aMvL2",
        "outputId": "4ebb9391-1434-403e-d8b6-b22ac89f97a9"
      },
      "outputs": [
        {
          "output_type": "execute_result",
          "data": {
            "text/plain": [
              "  Species  Weight  Length  Diagonal   Height   Width\n",
              "0   Bream   242.0    25.4      30.0  11.5200  4.0200\n",
              "1   Bream   290.0    26.3      31.2  12.4800  4.3056\n",
              "2   Bream   340.0    26.5      31.1  12.3778  4.6961\n",
              "3   Bream   363.0    29.0      33.5  12.7300  4.4555\n",
              "4   Bream   430.0    29.0      34.0  12.4440  5.1340"
            ],
            "text/html": [
              "\n",
              "  <div id=\"df-3c5195bb-ad65-485c-8b95-563887f303f2\">\n",
              "    <div class=\"colab-df-container\">\n",
              "      <div>\n",
              "<style scoped>\n",
              "    .dataframe tbody tr th:only-of-type {\n",
              "        vertical-align: middle;\n",
              "    }\n",
              "\n",
              "    .dataframe tbody tr th {\n",
              "        vertical-align: top;\n",
              "    }\n",
              "\n",
              "    .dataframe thead th {\n",
              "        text-align: right;\n",
              "    }\n",
              "</style>\n",
              "<table border=\"1\" class=\"dataframe\">\n",
              "  <thead>\n",
              "    <tr style=\"text-align: right;\">\n",
              "      <th></th>\n",
              "      <th>Species</th>\n",
              "      <th>Weight</th>\n",
              "      <th>Length</th>\n",
              "      <th>Diagonal</th>\n",
              "      <th>Height</th>\n",
              "      <th>Width</th>\n",
              "    </tr>\n",
              "  </thead>\n",
              "  <tbody>\n",
              "    <tr>\n",
              "      <th>0</th>\n",
              "      <td>Bream</td>\n",
              "      <td>242.0</td>\n",
              "      <td>25.4</td>\n",
              "      <td>30.0</td>\n",
              "      <td>11.5200</td>\n",
              "      <td>4.0200</td>\n",
              "    </tr>\n",
              "    <tr>\n",
              "      <th>1</th>\n",
              "      <td>Bream</td>\n",
              "      <td>290.0</td>\n",
              "      <td>26.3</td>\n",
              "      <td>31.2</td>\n",
              "      <td>12.4800</td>\n",
              "      <td>4.3056</td>\n",
              "    </tr>\n",
              "    <tr>\n",
              "      <th>2</th>\n",
              "      <td>Bream</td>\n",
              "      <td>340.0</td>\n",
              "      <td>26.5</td>\n",
              "      <td>31.1</td>\n",
              "      <td>12.3778</td>\n",
              "      <td>4.6961</td>\n",
              "    </tr>\n",
              "    <tr>\n",
              "      <th>3</th>\n",
              "      <td>Bream</td>\n",
              "      <td>363.0</td>\n",
              "      <td>29.0</td>\n",
              "      <td>33.5</td>\n",
              "      <td>12.7300</td>\n",
              "      <td>4.4555</td>\n",
              "    </tr>\n",
              "    <tr>\n",
              "      <th>4</th>\n",
              "      <td>Bream</td>\n",
              "      <td>430.0</td>\n",
              "      <td>29.0</td>\n",
              "      <td>34.0</td>\n",
              "      <td>12.4440</td>\n",
              "      <td>5.1340</td>\n",
              "    </tr>\n",
              "  </tbody>\n",
              "</table>\n",
              "</div>\n",
              "      <button class=\"colab-df-convert\" onclick=\"convertToInteractive('df-3c5195bb-ad65-485c-8b95-563887f303f2')\"\n",
              "              title=\"Convert this dataframe to an interactive table.\"\n",
              "              style=\"display:none;\">\n",
              "        \n",
              "  <svg xmlns=\"http://www.w3.org/2000/svg\" height=\"24px\"viewBox=\"0 0 24 24\"\n",
              "       width=\"24px\">\n",
              "    <path d=\"M0 0h24v24H0V0z\" fill=\"none\"/>\n",
              "    <path d=\"M18.56 5.44l.94 2.06.94-2.06 2.06-.94-2.06-.94-.94-2.06-.94 2.06-2.06.94zm-11 1L8.5 8.5l.94-2.06 2.06-.94-2.06-.94L8.5 2.5l-.94 2.06-2.06.94zm10 10l.94 2.06.94-2.06 2.06-.94-2.06-.94-.94-2.06-.94 2.06-2.06.94z\"/><path d=\"M17.41 7.96l-1.37-1.37c-.4-.4-.92-.59-1.43-.59-.52 0-1.04.2-1.43.59L10.3 9.45l-7.72 7.72c-.78.78-.78 2.05 0 2.83L4 21.41c.39.39.9.59 1.41.59.51 0 1.02-.2 1.41-.59l7.78-7.78 2.81-2.81c.8-.78.8-2.07 0-2.86zM5.41 20L4 18.59l7.72-7.72 1.47 1.35L5.41 20z\"/>\n",
              "  </svg>\n",
              "      </button>\n",
              "      \n",
              "  <style>\n",
              "    .colab-df-container {\n",
              "      display:flex;\n",
              "      flex-wrap:wrap;\n",
              "      gap: 12px;\n",
              "    }\n",
              "\n",
              "    .colab-df-convert {\n",
              "      background-color: #E8F0FE;\n",
              "      border: none;\n",
              "      border-radius: 50%;\n",
              "      cursor: pointer;\n",
              "      display: none;\n",
              "      fill: #1967D2;\n",
              "      height: 32px;\n",
              "      padding: 0 0 0 0;\n",
              "      width: 32px;\n",
              "    }\n",
              "\n",
              "    .colab-df-convert:hover {\n",
              "      background-color: #E2EBFA;\n",
              "      box-shadow: 0px 1px 2px rgba(60, 64, 67, 0.3), 0px 1px 3px 1px rgba(60, 64, 67, 0.15);\n",
              "      fill: #174EA6;\n",
              "    }\n",
              "\n",
              "    [theme=dark] .colab-df-convert {\n",
              "      background-color: #3B4455;\n",
              "      fill: #D2E3FC;\n",
              "    }\n",
              "\n",
              "    [theme=dark] .colab-df-convert:hover {\n",
              "      background-color: #434B5C;\n",
              "      box-shadow: 0px 1px 3px 1px rgba(0, 0, 0, 0.15);\n",
              "      filter: drop-shadow(0px 1px 2px rgba(0, 0, 0, 0.3));\n",
              "      fill: #FFFFFF;\n",
              "    }\n",
              "  </style>\n",
              "\n",
              "      <script>\n",
              "        const buttonEl =\n",
              "          document.querySelector('#df-3c5195bb-ad65-485c-8b95-563887f303f2 button.colab-df-convert');\n",
              "        buttonEl.style.display =\n",
              "          google.colab.kernel.accessAllowed ? 'block' : 'none';\n",
              "\n",
              "        async function convertToInteractive(key) {\n",
              "          const element = document.querySelector('#df-3c5195bb-ad65-485c-8b95-563887f303f2');\n",
              "          const dataTable =\n",
              "            await google.colab.kernel.invokeFunction('convertToInteractive',\n",
              "                                                     [key], {});\n",
              "          if (!dataTable) return;\n",
              "\n",
              "          const docLinkHtml = 'Like what you see? Visit the ' +\n",
              "            '<a target=\"_blank\" href=https://colab.research.google.com/notebooks/data_table.ipynb>data table notebook</a>'\n",
              "            + ' to learn more about interactive tables.';\n",
              "          element.innerHTML = '';\n",
              "          dataTable['output_type'] = 'display_data';\n",
              "          await google.colab.output.renderOutput(dataTable, element);\n",
              "          const docLink = document.createElement('div');\n",
              "          docLink.innerHTML = docLinkHtml;\n",
              "          element.appendChild(docLink);\n",
              "        }\n",
              "      </script>\n",
              "    </div>\n",
              "  </div>\n",
              "  "
            ]
          },
          "metadata": {},
          "execution_count": 1
        }
      ],
      "source": [
        "import pandas as pd\n",
        "\n",
        "fish = pd.read_csv('https://bit.ly/fish_csv_data')\n",
        "fish.head()"
      ]
    },
    {
      "cell_type": "markdown",
      "source": [
        "- unique()\n",
        "  - 어떤 종류의 생선이 있는지 species 열에서 고유한 값을 추출한다."
      ],
      "metadata": {
        "id": "MxtD3ZwIkoOl"
      }
    },
    {
      "cell_type": "code",
      "source": [
        "print(pd.unique(fish['Species']))"
      ],
      "metadata": {
        "colab": {
          "base_uri": "https://localhost:8080/"
        },
        "id": "JTR1rDIAk0Rh",
        "outputId": "ad9ad444-1ec1-4fc6-d52b-e92972f412e5"
      },
      "execution_count": null,
      "outputs": [
        {
          "output_type": "stream",
          "name": "stdout",
          "text": [
            "['Bream' 'Roach' 'Whitefish' 'Parkki' 'Perch' 'Pike' 'Smelt']\n"
          ]
        }
      ]
    },
    {
      "cell_type": "markdown",
      "source": [
        "### 데이터 변환\n",
        "- 배열로 변환"
      ],
      "metadata": {
        "id": "3heYVGvvNszy"
      }
    },
    {
      "cell_type": "code",
      "source": [
        "fish_input = fish[['Weight', 'Length', 'Diagonal', 'Height', 'Width']]  # Diagonal = 대각선\n",
        "fish_input.shape"
      ],
      "metadata": {
        "colab": {
          "base_uri": "https://localhost:8080/"
        },
        "id": "IJjpF3KONu7J",
        "outputId": "30c2f213-b254-4da5-af8a-29bb61a248be"
      },
      "execution_count": null,
      "outputs": [
        {
          "output_type": "execute_result",
          "data": {
            "text/plain": [
              "(159, 5)"
            ]
          },
          "metadata": {},
          "execution_count": 4
        }
      ]
    },
    {
      "cell_type": "markdown",
      "source": [
        "- target 배열로 변환\n",
        "- 종속변수"
      ],
      "metadata": {
        "id": "VKefwj-xOKmY"
      }
    },
    {
      "cell_type": "code",
      "source": [
        "fish_target = fish['Species'].to_numpy()"
      ],
      "metadata": {
        "id": "DuQS453HONaI"
      },
      "execution_count": null,
      "outputs": []
    },
    {
      "cell_type": "markdown",
      "source": [
        "### 훈련 데이터와 테스트 데이터\n",
        "- 이제 데이터를 훈련 세트와 테스트 세트로 나눈다.\n",
        "- 외워야 할 정도로 중요. 자주 쓰다보면 외워진다."
      ],
      "metadata": {
        "id": "-XfW6ljqOT3d"
      }
    },
    {
      "cell_type": "code",
      "source": [
        "from sklearn.model_selection import train_test_split\n",
        "train_input, test_input, train_target, test_target = train_test_split(\n",
        "    fish_input, fish_target, random_state = 42\n",
        ")"
      ],
      "metadata": {
        "id": "8d1nletGOatI"
      },
      "execution_count": null,
      "outputs": []
    },
    {
      "cell_type": "markdown",
      "source": [
        "- 표준화 전처리\n",
        "  - 이유가 중요하다\n",
        "  - 사이킷런의 StandardScaler 클래스를 사용해 훈련 세트와 테스트 세트를 표준화 전처리한다.\n",
        "  - 반드시 훈련 세트의 통계값으로 테스트 세트를 변환해야 한다."
      ],
      "metadata": {
        "id": "1NKgjD_FOvO0"
      }
    },
    {
      "cell_type": "code",
      "source": [
        "from sklearn.preprocessing import StandardScaler\n",
        "ss = StandardScaler()\n",
        "ss.fit(train_input)\n",
        "\n",
        "train_scaled = ss.transform(train_input)\n",
        "test_scaled = ss.transform(test_input)"
      ],
      "metadata": {
        "id": "MF5j9oDkO68A"
      },
      "execution_count": null,
      "outputs": []
    },
    {
      "cell_type": "code",
      "source": [
        "print(train_input[:5])\n",
        "print(train_scaled[:5])"
      ],
      "metadata": {
        "colab": {
          "base_uri": "https://localhost:8080/"
        },
        "id": "Jf2BcCZGPIUu",
        "outputId": "a73a72e3-6d2f-4229-c880-43a8ac01bf2a"
      },
      "execution_count": null,
      "outputs": [
        {
          "output_type": "stream",
          "name": "stdout",
          "text": [
            "     Weight  Length  Diagonal   Height   Width\n",
            "26    720.0    35.0      40.6  16.3618  6.0900\n",
            "137   500.0    45.0      48.0   6.9600  4.8960\n",
            "146     7.5    10.5      11.6   1.9720  1.1600\n",
            "90    110.0    22.0      23.5   5.5225  3.9950\n",
            "66    140.0    20.7      23.2   8.5376  3.2944\n",
            "[[ 0.91965782  0.60943175  0.81041221  1.85194896  1.00075672]\n",
            " [ 0.30041219  1.54653445  1.45316551 -0.46981663  0.27291745]\n",
            " [-1.0858536  -1.68646987 -1.70848587 -1.70159849 -2.0044758 ]\n",
            " [-0.79734143 -0.60880176 -0.67486907 -0.82480589 -0.27631471]\n",
            " [-0.71289885 -0.73062511 -0.70092664 -0.0802298  -0.7033869 ]]\n"
          ]
        }
      ]
    },
    {
      "cell_type": "markdown",
      "source": [
        "### k-최근접 이웃 분류기의 확률 예측\n",
        "- 필요한 데이터를 모두 준비했다.\n",
        "- 이제 k-최근접 이웃 분류기로 테스트 세트에 들어 있느 확률을 예측한다."
      ],
      "metadata": {
        "id": "QY7VEIH2QoHi"
      }
    },
    {
      "cell_type": "code",
      "source": [
        "from sklearn.neighbors import KNeighborsClassifier\n",
        "\n",
        "kn = KNeighborsClassifier(n_neighbors=3)  # 최근접 이웃 개수를 3으로 지정\n",
        "kn.fit(train_scaled, train_target)\n",
        "\n",
        "print(kn.score(train_scaled, train_target))\n",
        "print(kn.score(test_scaled, test_target))"
      ],
      "metadata": {
        "colab": {
          "base_uri": "https://localhost:8080/"
        },
        "id": "tEIu8iV0Qscz",
        "outputId": "fdfd2edb-f840-4ccb-d66b-f4df1e55461b"
      },
      "execution_count": null,
      "outputs": [
        {
          "output_type": "stream",
          "name": "stdout",
          "text": [
            "0.8907563025210085\n",
            "0.85\n"
          ]
        }
      ]
    },
    {
      "cell_type": "markdown",
      "source": [
        "- 182p"
      ],
      "metadata": {
        "id": "ZRxOrcvQQ7oW"
      }
    },
    {
      "cell_type": "markdown",
      "source": [
        "- 다중 분류( multi-class classification)\n",
        "  - 앞서 fish  데이터프레임에서 7종류의 생선이 있었다.\n",
        "  - fish['Species']를 사용해 타깃 데이터를 만들었기에 두 세트의 타깃 데이터에도 7개의 생선 종류가 들어가 있다.\n",
        "  - 이렇게 타깃 데이터에 2개 이상의 클래스가 포함된 문제를 '다중 분류'라 부른다.\n"
      ],
      "metadata": {
        "id": "I75mqTpgRYwQ"
      }
    },
    {
      "cell_type": "code",
      "source": [
        "import numpy as np\n",
        "\n",
        "# predict_proba() 메서드로 클래스별 확률 값을 반환한다.\n",
        "proba = kn.predict_proba(test_scaled[:5])\n",
        "\n",
        "# round()함수. 소수점 네번째 자리로 반올림\n",
        "print(np.round(proba, decimals = 4))\n",
        "\n",
        "# 타깃값을 그대로 사이킷런 모델에 전달하면 순서가 알파벨 순으로 매겨진다.\n",
        "print(kn.classes_)   "
      ],
      "metadata": {
        "colab": {
          "base_uri": "https://localhost:8080/"
        },
        "id": "7ZK3Ow_XQ_iZ",
        "outputId": "3c0ab1bd-3e5e-4084-8a7b-915d9cbab611"
      },
      "execution_count": null,
      "outputs": [
        {
          "output_type": "stream",
          "name": "stdout",
          "text": [
            "[[0.     0.     1.     0.     0.     0.     0.    ]\n",
            " [0.     0.     0.     0.     0.     1.     0.    ]\n",
            " [0.     0.     0.     1.     0.     0.     0.    ]\n",
            " [0.     0.     0.6667 0.     0.3333 0.     0.    ]\n",
            " [0.     0.     0.6667 0.     0.3333 0.     0.    ]]\n",
            "['Bream' 'Parkki' 'Perch' 'Pike' 'Roach' 'Smelt' 'Whitefish']\n"
          ]
        }
      ]
    },
    {
      "cell_type": "markdown",
      "source": [
        "- 위 코드의 결과는 어떤 물고기일지에 대한 확률이다.\n",
        "  - 예를 들어, 1번째 샘플은 100% 확률로 perch이다.\n",
        "  - 에를 들어, 4번째 샘플은 66% 확률로 perch이고, 33% 확률로 Roach이다."
      ],
      "metadata": {
        "id": "sftn3T3TrvOE"
      }
    },
    {
      "cell_type": "markdown",
      "source": [
        "# 로지스틱 회귀\n",
        "- 중요도 : 최상\n",
        "- 오늘 유튜브 영상 반드시 시청\n",
        "  + 개념 재복습 반드시 필요\n",
        "- Why?\n",
        "  + 로지스틱 회귀\n",
        "    + 기초 통계로도 활용 (의학통계)\n",
        "    + 머신러닝 부류모형의 기초 모형인데, 성능이 생각보다 나쁘지 않음\n",
        "      - 데이터셋, 수치 테이터 기반\n",
        "    + 딥러닝 : 초기모형에 해당됨."
      ],
      "metadata": {
        "id": "EfZqlHqYSNw4"
      }
    },
    {
      "cell_type": "markdown",
      "source": [
        "- 이름은 회귀이지만 분류 모델이다.\n",
        "- 선형 회귀와 동일하게 선형 방정식을 학습한다.\n",
        "  - 예를 들어 다음과 같다.\n",
        "    - z = a x (weight) + b x (length) + c x (Diagonal) + d x (Height) + e x (width) + f\n",
        "    - 여기에서 a, b, c, d, e는 가중치 혹은 계수이다.\n",
        "    - z 가 확률이 되려면 0~1 사이의 값이어야 한다.\n",
        "    - 이를 위해 사용하는 것이 시그모이드 함수( 또는 로지스틱 함수)이다."
      ],
      "metadata": {
        "id": "6pjaVqc0sQbU"
      }
    },
    {
      "cell_type": "markdown",
      "source": [
        "- 1 / ( 1 + e^(-z) ) \n",
        "  - 이 식이 로지스틱 함수( 시그모이드 함수) 이다.\n",
        "- 넘파이를 사용하여 z의 그래프를 그려보자.\n",
        "  - -5와 5 사이에서 0.1 간격으로 배열 z를 만든 다음 z 위치마다 로지스틱 함수를 계산한다.\n",
        "  - 함수 계산은 np.exp() 함수를 사용한다."
      ],
      "metadata": {
        "id": "oZrVOgUQQ-Zi"
      }
    },
    {
      "cell_type": "code",
      "source": [
        "import numpy as np\n",
        "import matplotlib.pyplot as plt\n",
        "z = np.arange(-5, 5, 0.1)   # 간격조절\n",
        "phi = 1 / (1 + np.exp(-z))  # exp는 거듭제곱, z는 범위 표시\n",
        "# print(z)\n",
        "# print(phi)\n",
        "\n",
        "plt.plot(z, phi)  # 문서를 봐야 함\n",
        "plt.xlabel('z')\n",
        "plt.ylabel('phi')\n",
        "plt.show()"
      ],
      "metadata": {
        "colab": {
          "base_uri": "https://localhost:8080/",
          "height": 279
        },
        "id": "20XsYrHobW5j",
        "outputId": "d9c3d6e4-0a11-4edf-cc13-38d20a820f8e"
      },
      "execution_count": null,
      "outputs": [
        {
          "output_type": "display_data",
          "data": {
            "text/plain": [
              "<Figure size 432x288 with 1 Axes>"
            ],
            "image/png": "[encoded data removed]"
          },
          "metadata": {
            "needs_background": "light"
          }
        }
      ]
    },
    {
      "cell_type": "markdown",
      "source": [
        "- 개발자 취업을 원한다면\n",
        "  + 공부 별도로 하지 않는다!\n",
        "  + 다만 알고리즘의 컨셉은 이해해야 한다.\n",
        "  + 얘기가 서로 통해야 하기 때문에\n",
        "\n",
        "- 데이터 분석 관련 지망이라면\n",
        "  + 공부해야 한다."
      ],
      "metadata": {
        "id": "KTUfmY0lcBrY"
      }
    },
    {
      "cell_type": "markdown",
      "source": [
        "### 로지스틱 회귀로 이진 분류 수행하기\n",
        "- 사이킷런에는 로지스틱 회귀모델인 LogisticRegression 클래스가 준비되어 있다.\n",
        "- 이진 분류이 경우\n",
        "  - 로지스틱 함수의 출력이 0.5보다 크면 양성 클래스\n",
        "  - 로지스틱 함수의 출력이 0.5보다 작으면 음성 클래스"
      ],
      "metadata": {
        "id": "lJ6C5UIsdpfQ"
      }
    },
    {
      "cell_type": "markdown",
      "source": [
        "- 불리언 인덱싱 (boolean indexing)\n",
        "  - 넘파일 배열은 True, False 값을 전달하여 행을 선택할 수 있다.\n",
        "  - 이를 불리언 인덱싱이라고 부른다."
      ],
      "metadata": {
        "id": "OgxKFmuuuPVa"
      }
    },
    {
      "cell_type": "code",
      "source": [
        "char_arr = np.array(['A', 'B', 'C', 'D', 'E'])\n",
        "print(char_arr[[True, False, True, False, False]])"
      ],
      "metadata": {
        "colab": {
          "base_uri": "https://localhost:8080/"
        },
        "id": "EPebiao2d1EH",
        "outputId": "5ebbec6e-f085-4b01-be1b-7d436dd48415"
      },
      "execution_count": null,
      "outputs": [
        {
          "output_type": "stream",
          "name": "stdout",
          "text": [
            "['A' 'C']\n"
          ]
        }
      ]
    },
    {
      "cell_type": "markdown",
      "source": [
        "- A 와 C만 True이므로 위 결과가 나온다.\n",
        "- 이와 같은 방식으로 훈련 세트에서 도미(bream)와 빙어(smelt)의 행만 골라낸다.\n",
        "- 비교 연산자를  사용하면 도미와 빙어의 행을 True로 만들 수 있다.\n"
      ],
      "metadata": {
        "id": "RKIPkyYZujCE"
      }
    },
    {
      "cell_type": "code",
      "source": [
        "# OR 연산자(|) 를 사용하여 비교 결과를 합친다.\n",
        "bream_smelt_indexes = (train_target == 'Bream') | (train_target == 'Smelt')\n",
        "train_bream_smelt = train_scaled[bream_smelt_indexes]\n",
        "target_bream_smelt = train_target[bream_smelt_indexes]"
      ],
      "metadata": {
        "id": "dozJYNVNed9c"
      },
      "execution_count": null,
      "outputs": []
    },
    {
      "cell_type": "markdown",
      "source": [
        "- 위에서 bream_smelt_indexes 배열은 도미와 빙어일 경우만 True값이 들어간다.\n",
        "- 이 배열을 사용해 train_scaled와 train_targt 배열에 불리언 인덱싱을 적용하여 도미와 빙어 데이터만 골라낼 수 있다."
      ],
      "metadata": {
        "id": "3Eb0MjQNvCvQ"
      }
    },
    {
      "cell_type": "markdown",
      "source": [
        "- 186p\n",
        "- 모형 만들고 예측하기!\n",
        "- 이제 이 데이터로 로지스틱 회귀 모델을 훈련한다."
      ],
      "metadata": {
        "id": "SxcruUpOefNp"
      }
    },
    {
      "cell_type": "code",
      "source": [
        "from sklearn.linear_model import LogisticRegression\n",
        "lr = LogisticRegression()\n",
        "#         독립변수             종속변수\n",
        "lr.fit(train_bream_smelt, target_bream_smelt)"
      ],
      "metadata": {
        "colab": {
          "base_uri": "https://localhost:8080/"
        },
        "id": "A2j_8CqeejXB",
        "outputId": "bbc31ea5-67cb-41ca-a93d-16a9b271e05b"
      },
      "execution_count": null,
      "outputs": [
        {
          "output_type": "execute_result",
          "data": {
            "text/plain": [
              "LogisticRegression()"
            ]
          },
          "metadata": {},
          "execution_count": 16
        }
      ]
    },
    {
      "cell_type": "markdown",
      "source": [
        "- 훈련한 모델을 사용해 train_bream_smelt에 있는 처음 5개 샘플을 예측한다."
      ],
      "metadata": {
        "id": "i2Al9P5AvvIO"
      }
    },
    {
      "cell_type": "code",
      "source": [
        "# 예측하기\n",
        "# 클래스로 분류\n",
        "# 확률값 -> 0.5\n",
        "print(lr.predict(train_bream_smelt[:5]))"
      ],
      "metadata": {
        "colab": {
          "base_uri": "https://localhost:8080/"
        },
        "id": "SAWA29HTe5m3",
        "outputId": "ce606e54-9a65-4b17-f81b-1d0cda9b9f51"
      },
      "execution_count": null,
      "outputs": [
        {
          "output_type": "stream",
          "name": "stdout",
          "text": [
            "['Bream' 'Smelt' 'Bream' 'Bream' 'Bream']\n"
          ]
        }
      ]
    },
    {
      "cell_type": "markdown",
      "source": [
        "- 2 번째 샘플을 제외하고 모두 도미로 예측했다.\n",
        "- 예측 확률은 predict_proba() 메서드에서 제공한다.\n",
        "- 처음 5개 샘플의 예측 확률을 출력해 본다."
      ],
      "metadata": {
        "id": "pIuKyAkXv16Q"
      }
    },
    {
      "cell_type": "code",
      "source": [
        "print(lr.predict_proba(train_bream_smelt[:5]))  # predict_proba에서 예측 확률 제공\n",
        "print(lr.classes_)"
      ],
      "metadata": {
        "colab": {
          "base_uri": "https://localhost:8080/"
        },
        "id": "vQIzv7QafYzo",
        "outputId": "c5587be3-6a2d-4d8c-9316-633ac7c2e2be"
      },
      "execution_count": null,
      "outputs": [
        {
          "output_type": "stream",
          "name": "stdout",
          "text": [
            "[[0.99759855 0.00240145]\n",
            " [0.02735183 0.97264817]\n",
            " [0.99486072 0.00513928]\n",
            " [0.98584202 0.01415798]\n",
            " [0.99767269 0.00232731]]\n",
            "['Bream' 'Smelt']\n"
          ]
        }
      ]
    },
    {
      "cell_type": "markdown",
      "source": [
        "- 위에서 첫번째 열이 음성 클래스(0)에 대한 확률이다.\n",
        "- 위에서 두번째 열이 양성 클래스(1)에 대한 확률이다.\n",
        "- bream이 음성이고, smelt가 양성 클래스이다.  "
      ],
      "metadata": {
        "id": "R-tEPmQOwNFA"
      }
    },
    {
      "cell_type": "markdown",
      "source": [
        "- 이진 분류를 수행 완료했다.\n",
        "- 이제 선형 회귀에서터럼 로지스틱 회귀가 학습한 계수를 확인한다.\n",
        "- 방정식의 각 기울기와 상수를 구하는 코드\n"
      ],
      "metadata": {
        "id": "7RXs7075gbam"
      }
    },
    {
      "cell_type": "code",
      "source": [
        "print(lr.coef_, lr.intercept_)"
      ],
      "metadata": {
        "colab": {
          "base_uri": "https://localhost:8080/"
        },
        "id": "RbtLY0zYgaDy",
        "outputId": "77dde7dd-ac2d-43aa-f49f-308c8229d99f"
      },
      "execution_count": null,
      "outputs": [
        {
          "output_type": "stream",
          "name": "stdout",
          "text": [
            "[[-0.4037798  -0.57620209 -0.66280298 -1.01290277 -0.73168947]] [-2.16155132]\n"
          ]
        }
      ]
    },
    {
      "cell_type": "markdown",
      "source": [
        "- 이 로지스틱 회귀 모델이 학습한 방정식은 다음과 같다.\n",
        "  - z = -0.404 x (weight) -0.576 x (length) -0.663 x (Diagonal) -1.103 x (Height) -0.732 x (width) -2.161\n",
        "  - 확실히 로지스틱 회귀는 선형 회귀와 비슷하다."
      ],
      "metadata": {
        "id": "DlozSRTow8I2"
      }
    },
    {
      "cell_type": "markdown",
      "source": [
        "- LogistricRegression 모델로 z값을 계산해 보자.\n",
        "- z식\n",
        "- z값을 출력하자."
      ],
      "metadata": {
        "id": "e0n4uC5qgkzu"
      }
    },
    {
      "cell_type": "code",
      "source": [
        "decisions = lr.decision_function(train_bream_smelt[:5])\n",
        "print(decisions)"
      ],
      "metadata": {
        "colab": {
          "base_uri": "https://localhost:8080/"
        },
        "id": "xIpgrzvpgjF4",
        "outputId": "d06dbc52-54b2-4cc6-db07-83b9285fe34f"
      },
      "execution_count": null,
      "outputs": [
        {
          "output_type": "stream",
          "name": "stdout",
          "text": [
            "[-6.02927744  3.57123907 -5.26568906 -4.24321775 -6.0607117 ]\n"
          ]
        }
      ]
    },
    {
      "cell_type": "markdown",
      "source": [
        "- 이 z값을 로지스틱 함수에 통과시키면 확률을 얻을 수 있다.\n",
        "- expit() 함수를 이용해 편하게 계산 가능하다.\n",
        "- 이 함수를 이용해 decisions 배열의 값을 확률로 변환한다."
      ],
      "metadata": {
        "id": "7KoJ2pcbxtzO"
      }
    },
    {
      "cell_type": "code",
      "source": [
        "from scipy.special import expit\n",
        "print(expit(decisions))"
      ],
      "metadata": {
        "colab": {
          "base_uri": "https://localhost:8080/"
        },
        "id": "tbc1zXUshQ-4",
        "outputId": "bd2f96de-7497-4a75-db28-9ad277a3c34c"
      },
      "execution_count": null,
      "outputs": [
        {
          "output_type": "stream",
          "name": "stdout",
          "text": [
            "[0.00240145 0.97264817 0.00513928 0.01415798 0.00232731]\n"
          ]
        }
      ]
    },
    {
      "cell_type": "markdown",
      "source": [
        "- 양성 클래스에 대한 z값을 반환했다.\n",
        "- 지금까지 이진 분류를 통해 2종류의 생선 샘플을 골라냈고 이를 이용해 로지스틱 회귀 모델을 훈련했다."
      ],
      "metadata": {
        "id": "DLVR31diDmTC"
      }
    },
    {
      "cell_type": "markdown",
      "source": [
        "- 188p"
      ],
      "metadata": {
        "id": "bv6DxvODjJvk"
      }
    },
    {
      "cell_type": "markdown",
      "source": [
        "- Reference : 혼자 공부하는 머신러닝 + 딥러닝"
      ],
      "metadata": {
        "id": "60JleHhxyBeu"
      }
    }
  ]
}